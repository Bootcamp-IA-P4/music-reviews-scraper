{
 "cells": [
  {
   "cell_type": "markdown",
   "id": "a09c7422",
   "metadata": {},
   "source": [
    "# Análisis Exploratorio de las Reviews de Pitchfork\n",
    "\n",
    "Este notebook realiza un análisis exploratorio de los datos almacenados en la base de datos PostgreSQL, con foco en las puntuaciones, géneros musicales y otros aspectos relevantes de las reviews.\n"
   ]
  },
  {
   "cell_type": "code",
   "execution_count": null,
   "id": "875e1fd4",
   "metadata": {},
   "outputs": [],
   "source": [
    "# Importación de librerías y carga de datos\n",
    "import pandas as pd\n",
    "import matplotlib.pyplot as plt\n",
    "import seaborn as sns\n",
    "import numpy as np\n",
    "from IPython.display import display\n",
    "from sqlalchemy import create_engine\n",
    "from dotenv import load_dotenv\n",
    "from data_cleaning import clean_reviews\n",
    "import os\n",
    "\n",
    "sns.set(style=\"whitegrid\")\n",
    "\n",
    "load_dotenv()\n",
    "DATABASE_URL = os.getenv('DATABASE_URL')\n",
    "engine = create_engine(DATABASE_URL)\n",
    "\n",
    "query = \"SELECT * FROM pitchfork_reviews\"\n",
    "df = pd.read_sql(query, engine)\n",
    "df.head()\n",
    "\n",
    "print(f\"Cantidad de registros: {len(df)}\")\n",
    "\n"
   ]
  },
  {
   "cell_type": "code",
   "execution_count": null,
   "id": "07a833f3",
   "metadata": {},
   "outputs": [],
   "source": [
    "# Limpieza de datos\n",
    "\n",
    "df_clean = clean_reviews(df)\n",
    "df_clean.head()"
   ]
  },
  {
   "cell_type": "code",
   "execution_count": null,
   "id": "27a0114f",
   "metadata": {},
   "outputs": [],
   "source": [
    "\n",
    "# Distribución de Puntuaciones\n",
    "plt.figure(figsize=(8, 6))\n",
    "sns.histplot(df_clean['rating'], kde=True, bins=20)\n",
    "plt.title('Distribución de Puntuaciones de Pitchfork')\n",
    "plt.xlabel('Puntuación')\n",
    "plt.ylabel('Frecuencia')\n",
    "plt.show()"
   ]
  },
  {
   "cell_type": "code",
   "execution_count": null,
   "id": "cf657a54",
   "metadata": {},
   "outputs": [],
   "source": [
    "\n",
    "# Cantidad de Reviews por Género Musical\n",
    "all_genres = df_clean['genre'].dropna().str.split(r'\\s*/\\s*')\n",
    "genres_series = pd.Series([genre for sublist in all_genres for genre in sublist])\n",
    "genre_count = genres_series.value_counts()\n",
    "\n",
    "plt.figure(figsize=(12,6))\n",
    "genre_count.plot(kind='bar')\n",
    "plt.title('Cantidad de Reviews por Género Musical (Separados)')\n",
    "plt.xlabel('Género')\n",
    "plt.ylabel('Cantidad de Reviews')\n",
    "plt.xticks(rotation=45)\n",
    "plt.tight_layout()\n",
    "plt.show()\n"
   ]
  },
  {
   "cell_type": "code",
   "execution_count": null,
   "id": "3c44740b",
   "metadata": {},
   "outputs": [],
   "source": [
    "# Labels más recurrentes\n",
    "label_count = df_clean['label'].value_counts().head(15)\n",
    "\n",
    "plt.figure(figsize=(12,6))\n",
    "label_count.plot(kind='bar')\n",
    "plt.title('Top 15 Sellos Discográficos con más Reviews')\n",
    "plt.xlabel('Sello')\n",
    "plt.ylabel('Cantidad de Reviews')\n",
    "plt.xticks(rotation=45)\n",
    "plt.tight_layout()\n",
    "plt.show()"
   ]
  },
  {
   "cell_type": "code",
   "execution_count": null,
   "id": "a8e8543b",
   "metadata": {},
   "outputs": [],
   "source": [
    "# Puntuación media por género (limpiando nulos)\n",
    "genre_ratings = df_clean.dropna(subset=['genre', 'rating'])\n",
    "genre_ratings.loc[:, 'genre_list'] = genre_ratings['genre'].str.split(r'\\s*/\\s*')\n",
    "exploded = genre_ratings.explode('genre_list')\n",
    "mean_rating_by_genre = exploded.groupby('genre_list')['rating'].mean().sort_values(ascending=False).head(15)\n",
    "\n",
    "plt.figure(figsize=(12,6))\n",
    "mean_rating_by_genre.plot(kind='bar', color='skyblue')\n",
    "plt.title('Top 15 Géneros con Mejor Puntuación Media')\n",
    "plt.xlabel('Género')\n",
    "plt.ylabel('Puntuación Media')\n",
    "plt.xticks(rotation=45)\n",
    "plt.tight_layout()\n",
    "plt.show()"
   ]
  },
  {
   "cell_type": "code",
   "execution_count": null,
   "id": "df36e961",
   "metadata": {},
   "outputs": [],
   "source": [
    "# Artistas mejor valorados (con mínimo 3 reviews)\n",
    "\n",
    "best_artists_df = df.groupby('artist').filter(lambda x: len(x) >= 3)\n",
    "best_artists_avg = best_artists_df.groupby('artist')['rating'].mean().sort_values(ascending=False).head(10).reset_index()\n",
    "display(best_artists_avg)"
   ]
  },
  {
   "cell_type": "code",
   "execution_count": null,
   "id": "a6bca7f0",
   "metadata": {},
   "outputs": [],
   "source": [
    "# Albums con puntuación perfecta\n",
    "# Álbumnes con puntuación perfecta ordenados por año de lanzamiento\n",
    "perfect_albums = df[df['rating'] == 10][['artist', 'title', 'release_year']].reset_index(drop=True)\n",
    "perfect_albums = perfect_albums.sort_values(by='release_year', ascending=True).reset_index(drop=True)\n",
    "\n",
    "display(perfect_albums.style.set_properties(**{'text-align': 'left'}))"
   ]
  }
 ],
 "metadata": {
  "kernelspec": {
   "display_name": ".venv",
   "language": "python",
   "name": "python3"
  },
  "language_info": {
   "codemirror_mode": {
    "name": "ipython",
    "version": 3
   },
   "file_extension": ".py",
   "mimetype": "text/x-python",
   "name": "python",
   "nbconvert_exporter": "python",
   "pygments_lexer": "ipython3",
   "version": "3.13.2"
  }
 },
 "nbformat": 4,
 "nbformat_minor": 5
}
