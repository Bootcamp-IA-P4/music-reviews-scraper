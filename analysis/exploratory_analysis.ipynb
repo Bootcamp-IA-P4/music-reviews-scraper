{
 "cells": [
  {
   "cell_type": "markdown",
   "id": "9fc2fa02",
   "metadata": {},
   "source": [
    "# Exploratory Data Analysis - Pitchfork Reviews"
   ]
  },
  {
   "cell_type": "markdown",
   "id": "2abac84d",
   "metadata": {},
   "source": [
    "### 📌 1. Importar librerías"
   ]
  },
  {
   "cell_type": "code",
   "execution_count": 1,
   "id": "7cfc8789",
   "metadata": {},
   "outputs": [],
   "source": [
    "import pandas as pd\n",
    "import seaborn as sns\n",
    "import matplotlib.pyplot as plt\n",
    "from sqlalchemy import create_engine\n",
    "from dotenv import load_dotenv\n",
    "import os"
   ]
  },
  {
   "cell_type": "markdown",
   "id": "c9d2e380",
   "metadata": {},
   "source": [
    "### 📌 2. Cargar las variables de entorno"
   ]
  },
  {
   "cell_type": "code",
   "execution_count": 2,
   "id": "aebde78c",
   "metadata": {},
   "outputs": [],
   "source": [
    "load_dotenv()\n",
    "\n",
    "DATABASE_URL = os.getenv('DATABASE_URL')"
   ]
  },
  {
   "cell_type": "markdown",
   "id": "0e976243",
   "metadata": {},
   "source": [
    "### 📌 3. Cargar datos desde PostgreSQL"
   ]
  },
  {
   "cell_type": "code",
   "execution_count": 3,
   "id": "26ff2839",
   "metadata": {},
   "outputs": [],
   "source": [
    "engine = create_engine(DATABASE_URL)\n",
    "query = 'SELECT * FROM pitchfork_reviews;'\n",
    "df = pd.read_sql(query, engine)"
   ]
  },
  {
   "cell_type": "markdown",
   "id": "fd512edf",
   "metadata": {},
   "source": [
    "### 📌 4. Verificación de los primeros registros"
   ]
  },
  {
   "cell_type": "code",
   "execution_count": 4,
   "id": "025273a4",
   "metadata": {},
   "outputs": [
    {
     "data": {
      "text/html": [
       "<div>\n",
       "<style scoped>\n",
       "    .dataframe tbody tr th:only-of-type {\n",
       "        vertical-align: middle;\n",
       "    }\n",
       "\n",
       "    .dataframe tbody tr th {\n",
       "        vertical-align: top;\n",
       "    }\n",
       "\n",
       "    .dataframe thead th {\n",
       "        text-align: right;\n",
       "    }\n",
       "</style>\n",
       "<table border=\"1\" class=\"dataframe\">\n",
       "  <thead>\n",
       "    <tr style=\"text-align: right;\">\n",
       "      <th></th>\n",
       "      <th>id</th>\n",
       "      <th>title</th>\n",
       "      <th>artist</th>\n",
       "      <th>release_year</th>\n",
       "      <th>rating</th>\n",
       "      <th>genre</th>\n",
       "      <th>label</th>\n",
       "      <th>reviewer</th>\n",
       "      <th>review_text</th>\n",
       "      <th>url</th>\n",
       "    </tr>\n",
       "  </thead>\n",
       "  <tbody>\n",
       "    <tr>\n",
       "      <th>0</th>\n",
       "      <td>1</td>\n",
       "      <td>MUSIC</td>\n",
       "      <td>Playboi Carti</td>\n",
       "      <td>2025</td>\n",
       "      <td>7.7</td>\n",
       "      <td>Rap</td>\n",
       "      <td>AWGE / Interscope</td>\n",
       "      <td>Alphonse Pierre</td>\n",
       "      <td>Carti’s long-awaited third official album is a...</td>\n",
       "      <td>https://pitchfork.com/reviews/albums/playboi-c...</td>\n",
       "    </tr>\n",
       "    <tr>\n",
       "      <th>1</th>\n",
       "      <td>2</td>\n",
       "      <td>two house</td>\n",
       "      <td>food house, Gupi, Fraxiom</td>\n",
       "      <td>2025</td>\n",
       "      <td>7.0</td>\n",
       "      <td>Electronic</td>\n",
       "      <td>self-released</td>\n",
       "      <td>Colin Joyce</td>\n",
       "      <td>The post-hyperpop pranksters’ second album is ...</td>\n",
       "      <td>https://pitchfork.com/reviews/albums/food-hous...</td>\n",
       "    </tr>\n",
       "    <tr>\n",
       "      <th>2</th>\n",
       "      <td>3</td>\n",
       "      <td>BLACK’!ANTIQUE</td>\n",
       "      <td>Pink Siifu</td>\n",
       "      <td>2025</td>\n",
       "      <td>7.1</td>\n",
       "      <td>Rap</td>\n",
       "      <td>Dynamite Hill</td>\n",
       "      <td>Matthew Ritchie</td>\n",
       "      <td>The rapper’s third solo LP is a community affa...</td>\n",
       "      <td>https://pitchfork.com/reviews/albums/pink-siif...</td>\n",
       "    </tr>\n",
       "    <tr>\n",
       "      <th>3</th>\n",
       "      <td>4</td>\n",
       "      <td>So Wavy Luciano</td>\n",
       "      <td>Bloody!</td>\n",
       "      <td>2025</td>\n",
       "      <td>7.2</td>\n",
       "      <td>Rap</td>\n",
       "      <td>self-released</td>\n",
       "      <td>Jude Noel</td>\n",
       "      <td>The New York City rapper pushes hedonism to th...</td>\n",
       "      <td>https://pitchfork.com/reviews/albums/bloody-so...</td>\n",
       "    </tr>\n",
       "    <tr>\n",
       "      <th>4</th>\n",
       "      <td>5</td>\n",
       "      <td>Consentrik Quartet</td>\n",
       "      <td>Nels Cline</td>\n",
       "      <td>2025</td>\n",
       "      <td>7.3</td>\n",
       "      <td>Experimental / Jazz</td>\n",
       "      <td>Blue Note</td>\n",
       "      <td>Grayson Haver Currin</td>\n",
       "      <td>In a new quartet of seasoned New York improvis...</td>\n",
       "      <td>https://pitchfork.com/reviews/albums/nels-clin...</td>\n",
       "    </tr>\n",
       "  </tbody>\n",
       "</table>\n",
       "</div>"
      ],
      "text/plain": [
       "   id               title                     artist release_year  rating  \\\n",
       "0   1               MUSIC              Playboi Carti         2025     7.7   \n",
       "1   2           two house  food house, Gupi, Fraxiom         2025     7.0   \n",
       "2   3      BLACK’!ANTIQUE                 Pink Siifu         2025     7.1   \n",
       "3   4     So Wavy Luciano                    Bloody!         2025     7.2   \n",
       "4   5  Consentrik Quartet                 Nels Cline         2025     7.3   \n",
       "\n",
       "                 genre              label              reviewer  \\\n",
       "0                  Rap  AWGE / Interscope       Alphonse Pierre   \n",
       "1           Electronic      self-released           Colin Joyce   \n",
       "2                  Rap      Dynamite Hill       Matthew Ritchie   \n",
       "3                  Rap      self-released             Jude Noel   \n",
       "4  Experimental / Jazz          Blue Note  Grayson Haver Currin   \n",
       "\n",
       "                                         review_text  \\\n",
       "0  Carti’s long-awaited third official album is a...   \n",
       "1  The post-hyperpop pranksters’ second album is ...   \n",
       "2  The rapper’s third solo LP is a community affa...   \n",
       "3  The New York City rapper pushes hedonism to th...   \n",
       "4  In a new quartet of seasoned New York improvis...   \n",
       "\n",
       "                                                 url  \n",
       "0  https://pitchfork.com/reviews/albums/playboi-c...  \n",
       "1  https://pitchfork.com/reviews/albums/food-hous...  \n",
       "2  https://pitchfork.com/reviews/albums/pink-siif...  \n",
       "3  https://pitchfork.com/reviews/albums/bloody-so...  \n",
       "4  https://pitchfork.com/reviews/albums/nels-clin...  "
      ]
     },
     "execution_count": 4,
     "metadata": {},
     "output_type": "execute_result"
    }
   ],
   "source": [
    "df.head()"
   ]
  },
  {
   "cell_type": "markdown",
   "id": "964d464e",
   "metadata": {},
   "source": [
    "### 📌 5. Limpieza de datos"
   ]
  },
  {
   "cell_type": "code",
   "execution_count": 5,
   "id": "895c8d67",
   "metadata": {},
   "outputs": [
    {
     "name": "stdout",
     "output_type": "stream",
     "text": [
      "id               0\n",
      "title            1\n",
      "artist          43\n",
      "release_year     7\n",
      "rating           0\n",
      "genre           74\n",
      "label           21\n",
      "reviewer         0\n",
      "review_text      1\n",
      "url              0\n",
      "dtype: int64\n",
      "                                                  title  \\\n",
      "80                                                 None   \n",
      "303   Even the Forest Hums: Ukrainian Sonic Archives...   \n",
      "421                                     Soundbombing II   \n",
      "464             Kampire Presents: A Dancefloor in Ndola   \n",
      "623             I Saw the TV Glow (Original Soundtrack)   \n",
      "714                             funk​.​BR - S​ã​o Paulo   \n",
      "901                                          Weavings 2   \n",
      "927                              Tokyo Riddim 1976-1985   \n",
      "956                                Synthetic Bird Music   \n",
      "1090  The NID Tapes: Electronic Music From India 196...   \n",
      "1296                                   Barbie the Album   \n",
      "1644  Blacklips Bar: Androgyns and Deviants - Indust...   \n",
      "1670       Soul’d Out: The Complete Wattstax Collection   \n",
      "1745         Anthology of American Folk Music, Vol. 1-3   \n",
      "1793                                    Monsters of Rap   \n",
      "1824                                      To Illustrate   \n",
      "1918  Black Panther: Wakanda Forever - Music From an...   \n",
      "2192                  Songs of Slavery and Emancipation   \n",
      "2194                 Eccentric Soul: The Shiptown Label   \n",
      "2296  Earl’s Closet: The Lost Archive of Earl McGrat...   \n",
      "2324  Minions: The Rise of Gru (Original Motion Pict...   \n",
      "2370                       NOW That’s What I Call Pride   \n",
      "2470                                   PC Music, Vol. 3   \n",
      "2641                                           Weavings   \n",
      "2698                     Ocean Child: Songs of Yoko Ono   \n",
      "2779                                                C91   \n",
      "2799  Summer of Soul (...Or, When The Revolution Cou...   \n",
      "2815                              Long Live Young Dolph   \n",
      "2864  MOVES: 5 Years of Culture - Afrobeats / Rap & ...   \n",
      "2881  Broken Hearts & Dirty Windows: Songs of John P...   \n",
      "3086                                     Molten Mirrors   \n",
      "3109  I’ll Be Your Mirror: A Tribute to the Velvet U...   \n",
      "3157                              Italians Do It Better   \n",
      "3256                Country Funk Volume III (1975-1982)   \n",
      "3262        Young Dolph Presents Paper Route Illuminati   \n",
      "3284                                       Amapiano Now   \n",
      "3327                            Space Jam: A New Legacy   \n",
      "3589                                   Doom Mix, Vol. V   \n",
      "3610                                            ARENA02   \n",
      "3615                              Bills & Aches & Blues   \n",
      "3681       J Jazz Volume 3: Deep Modern Jazz From Japan   \n",
      "3711  Heisei No Oto: Japanese Left​-​field Pop From ...   \n",
      "3760    Judas and the Black Messiah: The Inspired Album   \n",
      "\n",
      "                                                    url  \n",
      "80    https://pitchfork.com/reviews/albums/drop-nine...  \n",
      "303   https://pitchfork.com/reviews/albums/various-a...  \n",
      "421   https://pitchfork.com/reviews/albums/various-a...  \n",
      "464   https://pitchfork.com/reviews/albums/various-a...  \n",
      "623   https://pitchfork.com/reviews/albums/various-a...  \n",
      "714   https://pitchfork.com/reviews/albums/various-a...  \n",
      "901   https://pitchfork.com/reviews/albums/various-a...  \n",
      "927   https://pitchfork.com/reviews/albums/various-a...  \n",
      "956   https://pitchfork.com/reviews/albums/various-a...  \n",
      "1090  https://pitchfork.com/reviews/albums/various-a...  \n",
      "1296  https://pitchfork.com/reviews/albums/various-a...  \n",
      "1644  https://pitchfork.com/reviews/albums/various-a...  \n",
      "1670  https://pitchfork.com/reviews/albums/various-a...  \n",
      "1745  https://pitchfork.com/reviews/albums/various-a...  \n",
      "1793  https://pitchfork.com/reviews/albums/various-a...  \n",
      "1824  https://pitchfork.com/reviews/albums/various-a...  \n",
      "1918  https://pitchfork.com/reviews/albums/various-a...  \n",
      "2192  https://pitchfork.com/reviews/albums/various-a...  \n",
      "2194  https://pitchfork.com/reviews/albums/various-a...  \n",
      "2296  https://pitchfork.com/reviews/albums/various-a...  \n",
      "2324  https://pitchfork.com/reviews/albums/various-a...  \n",
      "2370  https://pitchfork.com/reviews/albums/various-a...  \n",
      "2470  https://pitchfork.com/reviews/albums/various-a...  \n",
      "2641  https://pitchfork.com/reviews/albums/various-a...  \n",
      "2698  https://pitchfork.com/reviews/albums/various-a...  \n",
      "2779  https://pitchfork.com/reviews/albums/various-a...  \n",
      "2799  https://pitchfork.com/reviews/albums/various-a...  \n",
      "2815  https://pitchfork.com/reviews/albums/various-a...  \n",
      "2864  https://pitchfork.com/reviews/albums/various-a...  \n",
      "2881  https://pitchfork.com/reviews/albums/various-a...  \n",
      "3086  https://pitchfork.com/reviews/albums/various-a...  \n",
      "3109  https://pitchfork.com/reviews/albums/various-a...  \n",
      "3157  https://pitchfork.com/reviews/albums/various-a...  \n",
      "3256  https://pitchfork.com/reviews/albums/various-a...  \n",
      "3262  https://pitchfork.com/reviews/albums/various-a...  \n",
      "3284  https://pitchfork.com/reviews/albums/various-a...  \n",
      "3327  https://pitchfork.com/reviews/albums/various-a...  \n",
      "3589  https://pitchfork.com/reviews/albums/various-a...  \n",
      "3610  https://pitchfork.com/reviews/albums/various-a...  \n",
      "3615  https://pitchfork.com/reviews/albums/various-a...  \n",
      "3681  https://pitchfork.com/reviews/albums/various-a...  \n",
      "3711  https://pitchfork.com/reviews/albums/various-a...  \n",
      "3760  https://pitchfork.com/reviews/albums/various-a...  \n",
      "    id title artist release_year  rating genre label    reviewer review_text  \\\n",
      "80  81  None   None         None     7.6  Rock  None  Brad Shoup        None   \n",
      "\n",
      "                                                  url  \n",
      "80  https://pitchfork.com/reviews/albums/drop-nine...  \n"
     ]
    }
   ],
   "source": [
    "# Registros con valores nulos\n",
    "print(df.isnull().sum())\n",
    "\n",
    "print(df[df['artist'].isnull()][['title', 'url']])\n",
    "\n",
    "print(df[df['title'].isnull()])\n",
    "\n",
    "#df.dropna(inplace=True)"
   ]
  },
  {
   "cell_type": "markdown",
   "id": "d6d1781d",
   "metadata": {},
   "source": [
    "### 📌 6. Análisis descriptivo"
   ]
  },
  {
   "cell_type": "code",
   "execution_count": 6,
   "id": "0deba733",
   "metadata": {},
   "outputs": [
    {
     "data": {
      "text/html": [
       "<div>\n",
       "<style scoped>\n",
       "    .dataframe tbody tr th:only-of-type {\n",
       "        vertical-align: middle;\n",
       "    }\n",
       "\n",
       "    .dataframe tbody tr th {\n",
       "        vertical-align: top;\n",
       "    }\n",
       "\n",
       "    .dataframe thead th {\n",
       "        text-align: right;\n",
       "    }\n",
       "</style>\n",
       "<table border=\"1\" class=\"dataframe\">\n",
       "  <thead>\n",
       "    <tr style=\"text-align: right;\">\n",
       "      <th></th>\n",
       "      <th>id</th>\n",
       "      <th>rating</th>\n",
       "    </tr>\n",
       "  </thead>\n",
       "  <tbody>\n",
       "    <tr>\n",
       "      <th>count</th>\n",
       "      <td>3779.000000</td>\n",
       "      <td>3779.000000</td>\n",
       "    </tr>\n",
       "    <tr>\n",
       "      <th>mean</th>\n",
       "      <td>1890.000000</td>\n",
       "      <td>7.366208</td>\n",
       "    </tr>\n",
       "    <tr>\n",
       "      <th>std</th>\n",
       "      <td>1091.047662</td>\n",
       "      <td>0.818661</td>\n",
       "    </tr>\n",
       "    <tr>\n",
       "      <th>min</th>\n",
       "      <td>1.000000</td>\n",
       "      <td>2.000000</td>\n",
       "    </tr>\n",
       "    <tr>\n",
       "      <th>25%</th>\n",
       "      <td>945.500000</td>\n",
       "      <td>7.000000</td>\n",
       "    </tr>\n",
       "    <tr>\n",
       "      <th>50%</th>\n",
       "      <td>1890.000000</td>\n",
       "      <td>7.400000</td>\n",
       "    </tr>\n",
       "    <tr>\n",
       "      <th>75%</th>\n",
       "      <td>2834.500000</td>\n",
       "      <td>7.800000</td>\n",
       "    </tr>\n",
       "    <tr>\n",
       "      <th>max</th>\n",
       "      <td>3779.000000</td>\n",
       "      <td>10.000000</td>\n",
       "    </tr>\n",
       "  </tbody>\n",
       "</table>\n",
       "</div>"
      ],
      "text/plain": [
       "                id       rating\n",
       "count  3779.000000  3779.000000\n",
       "mean   1890.000000     7.366208\n",
       "std    1091.047662     0.818661\n",
       "min       1.000000     2.000000\n",
       "25%     945.500000     7.000000\n",
       "50%    1890.000000     7.400000\n",
       "75%    2834.500000     7.800000\n",
       "max    3779.000000    10.000000"
      ]
     },
     "execution_count": 6,
     "metadata": {},
     "output_type": "execute_result"
    }
   ],
   "source": [
    "df.describe()"
   ]
  },
  {
   "cell_type": "markdown",
   "id": "d42c0f30",
   "metadata": {},
   "source": [
    "## 📌 7. Visualización de la distribución de puntuaciones"
   ]
  },
  {
   "cell_type": "code",
   "execution_count": 7,
   "id": "7ec4f915",
   "metadata": {},
   "outputs": [
    {
     "name": "stdout",
     "output_type": "stream",
     "text": [
      "Index(['id', 'title', 'artist', 'release_year', 'rating', 'genre', 'label',\n",
      "       'reviewer', 'review_text', 'url'],\n",
      "      dtype='object')\n"
     ]
    },
    {
     "data": {
      "image/png": "[encoded data removed]",
      "text/plain": [
       "<Figure size 800x600 with 1 Axes>"
      ]
     },
     "metadata": {},
     "output_type": "display_data"
    }
   ],
   "source": [
    "# Verifica que la columna 'rating' exista y sea numérica\n",
    "print(df.columns)  # Asegúrate de que 'rating' esté en las columnas\n",
    "\n",
    "# Elimina filas con NaN en 'rating'\n",
    "df = df.dropna(subset=['rating'])\n",
    "\n",
    "# Convierte 'rating' a numérico si es necesario\n",
    "df['rating'] = pd.to_numeric(df['rating'], errors='coerce')\n",
    "\n",
    "# Crear el gráfico\n",
    "plt.figure(figsize=(8, 6))\n",
    "sns.histplot(df['rating'], kde=True, bins=20)\n",
    "plt.title('Distribución de Puntuaciones de Pitchfork')\n",
    "plt.xlabel('Puntuación')\n",
    "plt.ylabel('Frecuencia')\n",
    "plt.show()"
   ]
  },
  {
   "cell_type": "markdown",
   "id": "2f1b6dac",
   "metadata": {},
   "source": [
    "### 📌 8. Visualización de los géneros musicales"
   ]
  },
  {
   "cell_type": "code",
   "execution_count": 8,
   "id": "9ccb69b9",
   "metadata": {},
   "outputs": [
    {
     "data": {
      "image/png": "[encoded data removed]",
      "text/plain": [
       "<Figure size 1200x600 with 1 Axes>"
      ]
     },
     "metadata": {},
     "output_type": "display_data"
    }
   ],
   "source": [
    "# Paso 1: Separamos los géneros\n",
    "all_genres = df['genre'].dropna().str.split(r'\\s*/\\s*')\n",
    "\n",
    "# Paso 2: Aplanamos la lista de listas y la convertimos en una sola Serie\n",
    "genres_series = pd.Series([genre for sublist in all_genres for genre in sublist])\n",
    "\n",
    "# Paso 3: Contamos cada género\n",
    "genre_count = genres_series.value_counts()\n",
    "\n",
    "# Paso 4: Plot\n",
    "plt.figure(figsize=(12,6))\n",
    "genre_count.plot(kind='bar')\n",
    "plt.title('Cantidad de Reviews por Género Musical (Separados)')\n",
    "plt.xlabel('Género')\n",
    "plt.ylabel('Cantidad de Reviews')\n",
    "plt.xticks(rotation=45)\n",
    "plt.tight_layout()\n",
    "plt.show()"
   ]
  },
  {
   "cell_type": "code",
   "execution_count": null,
   "id": "c46575df",
   "metadata": {},
   "outputs": [],
   "source": []
  }
 ],
 "metadata": {
  "kernelspec": {
   "display_name": "Python 3 (ipykernel)",
   "language": "python",
   "name": "python3"
  },
  "language_info": {
   "codemirror_mode": {
    "name": "ipython",
    "version": 3
   },
   "file_extension": ".py",
   "mimetype": "text/x-python",
   "name": "python",
   "nbconvert_exporter": "python",
   "pygments_lexer": "ipython3",
   "version": "3.13.2"
  }
 },
 "nbformat": 4,
 "nbformat_minor": 5
}
