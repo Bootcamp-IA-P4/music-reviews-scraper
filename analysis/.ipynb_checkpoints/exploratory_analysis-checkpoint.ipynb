{
 "cells": [
  {
   "cell_type": "markdown",
   "id": "9fc2fa02",
   "metadata": {},
   "source": [
    "# Exploratory Data Analysis - Pitchfork Reviews"
   ]
  },
  {
   "cell_type": "markdown",
   "id": "2abac84d",
   "metadata": {},
   "source": [
    "### 📌 1. Importar librerías"
   ]
  },
  {
   "cell_type": "code",
   "execution_count": null,
   "id": "7cfc8789",
   "metadata": {},
   "outputs": [],
   "source": [
    "import pandas as pd\n",
    "import seaborn as sns\n",
    "import matplotlib.pyplot as plt\n",
    "from sqlalchemy import create_engine\n",
    "from dotenv import load_dotenv\n",
    "import os"
   ]
  },
  {
   "cell_type": "markdown",
   "id": "c9d2e380",
   "metadata": {},
   "source": [
    "### 📌 2. Cargar las variables de entorno"
   ]
  },
  {
   "cell_type": "code",
   "execution_count": null,
   "id": "aebde78c",
   "metadata": {},
   "outputs": [],
   "source": [
    "load_dotenv()\n",
    "\n",
    "DATABASE_URL = os.getenv('DB_URL')"
   ]
  },
  {
   "cell_type": "markdown",
   "id": "0e976243",
   "metadata": {},
   "source": [
    "### 📌 3. Cargar datos desde PostgreSQL"
   ]
  },
  {
   "cell_type": "code",
   "execution_count": null,
   "id": "26ff2839",
   "metadata": {},
   "outputs": [],
   "source": [
    "engine = create_engine(DATABASE_URL)\n",
    "query = 'SELECT * FROM pitchfork_reviews;'\n",
    "df = pd.read_sql(query, engine)"
   ]
  },
  {
   "cell_type": "markdown",
   "id": "fd512edf",
   "metadata": {},
   "source": [
    "### 📌 4. Verificación de los primeros registros"
   ]
  },
  {
   "cell_type": "code",
   "execution_count": null,
   "id": "025273a4",
   "metadata": {},
   "outputs": [],
   "source": [
    "df.head()"
   ]
  },
  {
   "cell_type": "markdown",
   "id": "964d464e",
   "metadata": {},
   "source": [
    "### 📌 5. Limpieza de datos"
   ]
  },
  {
   "cell_type": "code",
   "execution_count": null,
   "id": "895c8d67",
   "metadata": {},
   "outputs": [],
   "source": [
    "print(df.isnull().sum())\n",
    "\n",
    "df.dropna(inplace=True)"
   ]
  },
  {
   "cell_type": "markdown",
   "id": "d6d1781d",
   "metadata": {},
   "source": [
    "### 📌 6. Análisis descriptivo"
   ]
  },
  {
   "cell_type": "code",
   "execution_count": null,
   "id": "0deba733",
   "metadata": {},
   "outputs": [],
   "source": [
    "df.describe()"
   ]
  },
  {
   "cell_type": "markdown",
   "id": "d42c0f30",
   "metadata": {},
   "source": [
    "## 📌 7. Visualización de la distribución de puntuaciones"
   ]
  },
  {
   "cell_type": "code",
   "execution_count": null,
   "id": "7ec4f915",
   "metadata": {},
   "outputs": [],
   "source": [
    "plt.figure(figsize=(8,6))\n",
    "sns.histplot(df['score'], kde=True, bins=20)\n",
    "plt.title('Distribución de Puntuaciones de Pitchfork')\n",
    "plt.xlabel('Puntuación')\n",
    "plt.ylabel('Frecuencia')\n",
    "plt.show()"
   ]
  },
  {
   "cell_type": "markdown",
   "id": "2f1b6dac",
   "metadata": {},
   "source": [
    "### 📌 8. Visualización de los géneros musicales"
   ]
  },
  {
   "cell_type": "code",
   "execution_count": null,
   "id": "9ccb69b9",
   "metadata": {},
   "outputs": [],
   "source": [
    "plt.figure(figsize=(10,6))\n",
    "genre_count = df['genre'].value_counts()\n",
    "genre_count.plot(kind='bar')\n",
    "plt.title('Cantidad de Reviews por Género Musical')\n",
    "plt.xlabel('Género')\n",
    "plt.ylabel('Cantidad de Reviews')\n",
    "plt.xticks(rotation=45)\n",
    "plt.show()"
   ]
  }
 ],
 "metadata": {
  "kernelspec": {
   "display_name": ".venv",
   "language": "python",
   "name": "python3"
  },
  "language_info": {
   "name": "python",
   "version": "3.13.2"
  }
 },
 "nbformat": 4,
 "nbformat_minor": 5
}
